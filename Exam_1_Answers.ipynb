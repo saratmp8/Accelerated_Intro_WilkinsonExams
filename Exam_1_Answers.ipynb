{
 "cells": [
  {
   "cell_type": "markdown",
   "metadata": {},
   "source": [
    "# Exam 1 Answers Sara Temino Macaya"
   ]
  },
  {
   "cell_type": "markdown",
   "metadata": {},
   "source": [
    "# Problem 2\n"
   ]
  },
  {
   "cell_type": "code",
   "execution_count": 2,
   "metadata": {},
   "outputs": [
    {
     "name": "stdout",
     "output_type": "stream",
     "text": [
      "total 2.4M\n",
      "-rw-rw-r-- 1 osboxes osboxes 1.2M Sep  6 05:40  conv.txt\n",
      "-rw-rw-r-- 1 osboxes osboxes  147 Sep  6 05:40  DISCLAIMER\n",
      "-rw-rw-r-- 1 osboxes osboxes  509 Sep  6 10:09  Exam_1_Answers.ipynb\n",
      "-rw-rw-r-- 1 osboxes osboxes 5.5K Sep  6 05:40 'Exam Week 1.ipynb'\n",
      "-rw-rw-r-- 1 osboxes osboxes 3.9K Sep  6 05:40 'Exam Week 2.ipynb'\n",
      "-rw-rw-r-- 1 osboxes osboxes 4.2K Sep  6 05:40  Germplasm.tsv\n",
      "-rw-rw-r-- 1 osboxes osboxes  141 Sep  6 05:40  how_to_convert.txt\n",
      "-rw-rw-r-- 1 osboxes osboxes 1.1K Sep  6 05:40  LICENSE\n",
      "-rw-rw-r-- 1 osboxes osboxes  637 Sep  6 05:40  LocusGene.tsv\n",
      "-rw-rw-r-- 1 osboxes osboxes 1.2M Sep  6 05:40  Locus_Germplasm_Phenotype_20130122.txt\n",
      "-rw-rw-r-- 1 osboxes osboxes  743 Sep  6 05:40  README.md\n"
     ]
    }
   ],
   "source": [
    "ls -lh"
   ]
  },
  {
   "cell_type": "markdown",
   "metadata": {},
   "source": [
    "## ls -lh prints the directory content at human readable size\n",
    "### Users : \"rw\" read and write\n",
    "### Groups: \"rw\" read and write\n",
    "### Anyone: \"r\" only read"
   ]
  },
  {
   "cell_type": "markdown",
   "metadata": {},
   "source": [
    "# Problem 3"
   ]
  },
  {
   "cell_type": "code",
   "execution_count": 5,
   "metadata": {},
   "outputs": [
    {
     "name": "stdout",
     "output_type": "stream",
     "text": [
      "Locus_name)\tGermplasm_name\tphenotype\tpubmed_id\n"
     ]
    }
   ],
   "source": [
    "head -1 Locus_Germplasm_Phenotype_20130122.txt"
   ]
  },
  {
   "cell_type": "markdown",
   "metadata": {},
   "source": [
    "## Head -1 prints only the first line"
   ]
  },
  {
   "cell_type": "markdown",
   "metadata": {},
   "source": [
    "# Problem 4"
   ]
  },
  {
   "cell_type": "code",
   "execution_count": 7,
   "metadata": {},
   "outputs": [
    {
     "name": "stdout",
     "output_type": "stream",
     "text": [
      "7216 Locus_Germplasm_Phenotype_20130122.txt\n"
     ]
    }
   ],
   "source": [
    "wc -l Locus_Germplasm_Phenotype_20130122.txt"
   ]
  },
  {
   "cell_type": "markdown",
   "metadata": {},
   "source": [
    "## wc -l counts the total number of lines. In this case, the file has 7216 lines"
   ]
  },
  {
   "cell_type": "markdown",
   "metadata": {},
   "source": [
    "# Problem 5 "
   ]
  },
  {
   "cell_type": "code",
   "execution_count": 9,
   "metadata": {},
   "outputs": [],
   "source": [
    "tail +2 Locus_Germplasm_Phenotype_20130122.txt > Data_Only.csv"
   ]
  },
  {
   "cell_type": "code",
   "execution_count": 10,
   "metadata": {},
   "outputs": [
    {
     "name": "stdout",
     "output_type": "stream",
     "text": [
      "7215 Data_Only.csv\n"
     ]
    }
   ],
   "source": [
    "wc -l Data_Only.csv"
   ]
  },
  {
   "cell_type": "markdown",
   "metadata": {},
   "source": [
    "## since all lines except the first one have been selected, there is one line less, corroborating the effectiveness of the command"
   ]
  },
  {
   "cell_type": "markdown",
   "metadata": {},
   "source": [
    "# Problem 6"
   ]
  },
  {
   "cell_type": "code",
   "execution_count": null,
   "metadata": {},
   "outputs": [],
   "source": [
    "grep -ia \"root\" Locus_Germplasm_Phenotype_20130122.txt"
   ]
  },
  {
   "cell_type": "markdown",
   "metadata": {},
   "source": [
    "## Option -i makes the search insensitive to cases. Like I don not know the original source of this file, i use -a."
   ]
  },
  {
   "cell_type": "markdown",
   "metadata": {},
   "source": [
    "# Problem 7"
   ]
  },
  {
   "cell_type": "code",
   "execution_count": 1,
   "metadata": {},
   "outputs": [],
   "source": [
    "grep -ia \"root\" Locus_Germplasm_Phenotype_20130122.txt | grep -E -ioa 'AT[1-5]G[0-9]{5}' > Root-associated-Loci.txt"
   ]
  },
  {
   "cell_type": "markdown",
   "metadata": {},
   "source": [
    "## Using the same command line that the one I used in the previous exersise and then a pipe to a grep command that print the AGI Locus Codes (-o option to print the matches) from every line that contains the word root using them regular expression \"at[1-5]g[0-9]{5}\" because the number of the chromosome can be only between 0 and 9. Finally, I redirect the standard output to the file Root-associated-loci.txt"
   ]
  },
  {
   "cell_type": "markdown",
   "metadata": {},
   "source": [
    "# Problem 8"
   ]
  },
  {
   "cell_type": "code",
   "execution_count": 2,
   "metadata": {},
   "outputs": [],
   "source": [
    "grep -ia \"root\" Locus_Germplasm_Phenotype_20130122.txt | grep -E -oa \"[0-9]+$\" > Root-associated-Publications.txt\n"
   ]
  },
  {
   "cell_type": "markdown",
   "metadata": {},
   "source": [
    "## First I filter the phenotypes as I did in the previous question (those which include the word \"root\"), and then I use grep in order to find the PubMed ID. The length of the ID is unknown so I use the \"+\" character. Finally, I use the regular expression \"$\" to find the IDbecause they appear at the end of the line."
   ]
  },
  {
   "cell_type": "markdown",
   "metadata": {},
   "source": [
    "# Problem 9"
   ]
  },
  {
   "cell_type": "code",
   "execution_count": 22,
   "metadata": {
    "scrolled": true
   },
   "outputs": [
    {
     "name": "stdout",
     "output_type": "stream",
     "text": [
      "   3373 1\n",
      "   1978 2\n",
      "   1746 3\n",
      "   1242 4\n",
      "   1621 5\n"
     ]
    }
   ],
   "source": [
    "grep -ia \"root\" Locus_Germplasm_Phenotype_20130122.txt | grep -E -o '[1-5]'| sort | uniq -c"
   ]
  },
  {
   "cell_type": "markdown",
   "metadata": {},
   "source": [
    "## As the genes of interest are those associated with root, I use the grep command for select these. To avoid the repeated chromosomes I use the command uniq with the argument -c to print the numbers of genes that are in each chromosome. To use the command uniq is necessary apply too the command sort."
   ]
  },
  {
   "cell_type": "markdown",
   "metadata": {},
   "source": [
    "This work has been done with Miguel Rey Romero because we are a couple and we live together. We have also delivered it late because we were travelling from Benidorm to Madrid, and there has been a cut in the A3 road which has delayed us a little more. We are sorry for the inconvenience. Thank you for your aŧtention."
   ]
  }
 ],
 "metadata": {
  "kernelspec": {
   "display_name": "Bash",
   "language": "bash",
   "name": "bash"
  },
  "language_info": {
   "codemirror_mode": "shell",
   "file_extension": ".sh",
   "mimetype": "text/x-sh",
   "name": "bash"
  }
 },
 "nbformat": 4,
 "nbformat_minor": 2
}
